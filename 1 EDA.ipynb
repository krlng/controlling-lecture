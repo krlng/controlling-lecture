{
 "cells": [
  {
   "cell_type": "markdown",
   "id": "ec76b251-082e-41d0-a3d1-02af235ea5a8",
   "metadata": {},
   "source": [
    "# Explorative Datenanalyse (EDA)\n",
    "\n",
    "Das Ziel einer explorativen Datenanalyse (EDA) ist es, einen ersten Einblick in die Daten zu bekommen und Muster und Trends in den Daten zu identifizieren. Dabei werden verschiedene statistische Methoden und Visualisierungen eingesetzt, um die Daten zu untersuchen und Zusammenhänge zu erkennen. Ziel ist es, Hypothesen zu generieren und zu testen, um ein besseres Verständnis für die Daten zu erhalten und die Grundlage für weitere Analysen zu schaffen. Durch eine gründliche EDA können potenzielle Probleme in den Daten identifiziert werden und die Qualität der Daten verbessert werden, um letztendlich bessere Entscheidungen auf der Grundlage der Daten treffen zu können."
   ]
  },
  {
   "cell_type": "markdown",
   "id": "4b7cb266-9f90-4c28-affc-2c16f5ef8849",
   "metadata": {},
   "source": [
    "# Erkentnisse:\n",
    "\n",
    "* 2021 wurden in Köln ca. 590T Busgelder ausgestellt\n",
    "* Insgesamt wurden Bußgelder in Höhe von ca. 14 Millionen Euro eingesammelt\n",
    "* Im November und Dezember werden tendentiell leicht höhere Strafen ausgestellt (Durchschnitt ca. 28 statt 24 Euro)\n",
    "* ... (bitte weiter Ergänzen)\n"
   ]
  },
  {
   "cell_type": "markdown",
   "id": "1c21b1fb-183f-4e6e-8120-5a3242155985",
   "metadata": {},
   "source": [
    "## Daten laden"
   ]
  },
  {
   "cell_type": "code",
   "execution_count": null,
   "id": "66a45514-88e6-4509-b195-f0c2d383b965",
   "metadata": {
    "jp-MarkdownHeadingCollapsed": true,
    "tags": []
   },
   "outputs": [],
   "source": [
    "import pandas as pd\n",
    "\n",
    "# Parkautomaten in Köln\n",
    "automaten = pd.read_csv(\"https://www.offenedaten-koeln.de/sites/default/files/psa_offene_daten_2023.csv\", encoding='unicode_escape', sep=\";\")\n",
    "\n",
    "# Bussgelder im Jahr 2021 in Köln\n",
    "strafen = pd.read_csv(\"https://www.offenedaten-koeln.de/sites/default/files/Bussgeld_2021.csv\", encoding='unicode_escape', sep=\";\")\n",
    "strafen.columns = strafen.columns.str.strip()\n",
    "\n",
    "# Katalog möglicher Tatbestände\n",
    "tatbestände = pd.read_csv(\"https://raw.githubusercontent.com/jomo/bkat-owi/master/data.csv\")"
   ]
  },
  {
   "cell_type": "markdown",
   "id": "1916afaf-d321-4e27-b897-964346b55f4f",
   "metadata": {
    "tags": []
   },
   "source": [
    "# Spalten und Datenmenge analysieren"
   ]
  },
  {
   "cell_type": "code",
   "execution_count": null,
   "id": "b5eb68ac-f7c3-49a2-b03a-c8dc994f8860",
   "metadata": {
    "tags": []
   },
   "outputs": [],
   "source": [
    "strafen.columns"
   ]
  },
  {
   "cell_type": "code",
   "execution_count": null,
   "id": "1ad49519-30db-481d-8d62-68abf4d72681",
   "metadata": {
    "tags": []
   },
   "outputs": [],
   "source": [
    "strafen.shape"
   ]
  },
  {
   "cell_type": "markdown",
   "id": "c4b2a671-4f01-4037-9416-925a5907e330",
   "metadata": {},
   "source": [
    "# Deskriptive Statistiken"
   ]
  },
  {
   "cell_type": "code",
   "execution_count": null,
   "id": "5170a00b-c417-44e9-84f1-59476ca4e1fb",
   "metadata": {
    "tags": []
   },
   "outputs": [],
   "source": [
    "strafen.Monat.value_counts().sort_index()"
   ]
  },
  {
   "cell_type": "code",
   "execution_count": null,
   "id": "10c59c96-ab9f-48f6-87e3-a491d782090c",
   "metadata": {
    "tags": []
   },
   "outputs": [],
   "source": [
    "strafen.Monat.value_counts().sort_index().plot.bar()"
   ]
  },
  {
   "cell_type": "markdown",
   "id": "ef87fb5e-3d57-453e-8e6c-a43c70b462ae",
   "metadata": {},
   "source": [
    "## Spalten und Dateigrößen analysieren"
   ]
  },
  {
   "cell_type": "code",
   "execution_count": null,
   "id": "9bf8db1c-33cc-453b-8f40-03eecd14bbc5",
   "metadata": {},
   "outputs": [],
   "source": [
    "strafen."
   ]
  },
  {
   "cell_type": "markdown",
   "id": "1e77c4e8-4677-43a6-86b4-1072cc6e9d61",
   "metadata": {},
   "source": [
    "## Statistiken"
   ]
  },
  {
   "cell_type": "code",
   "execution_count": null,
   "id": "5898007b-f541-4a9c-b3dd-005bc50b2950",
   "metadata": {},
   "outputs": [],
   "source": [
    "strafen.describe()"
   ]
  },
  {
   "cell_type": "code",
   "execution_count": null,
   "id": "79114a33-8772-4fd6-a33d-0cb6bdfaafca",
   "metadata": {
    "tags": []
   },
   "outputs": [],
   "source": [
    "strafen.fabrikat.value_counts()"
   ]
  },
  {
   "cell_type": "code",
   "execution_count": null,
   "id": "9bf5093a-590a-43c2-a1b9-fc66ed9a686b",
   "metadata": {},
   "outputs": [],
   "source": [
    "pd.to_datetime(strafen.datum_von).dt.hour.hist(bins=24)"
   ]
  },
  {
   "cell_type": "code",
   "execution_count": null,
   "id": "5d72c158-4540-4b98-abd8-f7bc55a305c1",
   "metadata": {
    "tags": []
   },
   "outputs": [],
   "source": [
    "pd.to_datetime(strafen.datum_von).dt.month.value_counts().sort_index().rename(\"Monat\").plot.bar()"
   ]
  },
  {
   "cell_type": "code",
   "execution_count": null,
   "id": "f2da5c59-890e-4d8b-bb42-63b681594229",
   "metadata": {},
   "outputs": [],
   "source": [
    "break"
   ]
  },
  {
   "cell_type": "markdown",
   "id": "ca2f96c4-3a3d-49e3-8146-f856afcc3c49",
   "metadata": {
    "tags": []
   },
   "source": [
    "# Datenquellen Kombinieren\n",
    "\n",
    "Durch das kombinieren von Datenquellen können ganz neue Fragen beantwortet werden!"
   ]
  },
  {
   "cell_type": "code",
   "execution_count": null,
   "id": "7c67c6ed-64ea-4385-803e-17d357da91d1",
   "metadata": {
    "tags": []
   },
   "outputs": [],
   "source": [
    "tatbestände_aktuell = tatbestände.drop_duplicates(\"Tatbestandsnummer\",keep=\"last\").set_index(\"Tatbestandsnummer\")\n",
    "joined = strafen.join(tatbestände_aktuell[[\"Euro\",\"Tatbestand_Druckdatei\"]], on=\"tatbestand1\")"
   ]
  },
  {
   "cell_type": "code",
   "execution_count": null,
   "id": "33c568c1-ac98-4419-9184-75a780b12ffd",
   "metadata": {
    "tags": []
   },
   "outputs": [],
   "source": [
    "joined.Euro.sum()"
   ]
  },
  {
   "cell_type": "code",
   "execution_count": null,
   "id": "0ea6c2a9-44d2-4788-813b-5fea619b687a",
   "metadata": {
    "tags": []
   },
   "outputs": [],
   "source": [
    "joined.groupby(\"Monat\").Euro.mean().plot.bar()"
   ]
  },
  {
   "cell_type": "markdown",
   "id": "23164c47-928a-4f19-9424-e15fa74696fc",
   "metadata": {},
   "source": [
    "# Spezielle Fragen\n",
    "\n",
    "Mit den Daten können auch ganz spezielle Fragen beantwortet werden. Was beantworten die folgenden Zellen? Welche speziellen Fragen würden Sie interessieren?"
   ]
  },
  {
   "cell_type": "code",
   "execution_count": null,
   "id": "6ff82b69-53cf-4b1b-a265-d6cbbeb51d82",
   "metadata": {
    "tags": []
   },
   "outputs": [],
   "source": [
    "my_street = joined[joined.strasse.str.lower().str.contains(\"am weidenbach\")]"
   ]
  },
  {
   "cell_type": "code",
   "execution_count": null,
   "id": "a1e1c13e-1e5b-46cd-bc14-b8ca415c4f6f",
   "metadata": {
    "tags": []
   },
   "outputs": [],
   "source": [
    "pd.to_datetime(my_street.datum_von).dt.hour.value_counts().sort_index().plot.bar()"
   ]
  },
  {
   "cell_type": "code",
   "execution_count": null,
   "id": "9b7c0242-cb7a-4400-a194-965b2d801b46",
   "metadata": {
    "tags": []
   },
   "outputs": [],
   "source": [
    "pd.to_datetime(my_street.datum_von).dt.weekday.value_counts().sort_index().plot.bar()"
   ]
  },
  {
   "cell_type": "code",
   "execution_count": null,
   "id": "47eeb34f-0c24-4ea1-8056-4b4aecdb4a3a",
   "metadata": {},
   "outputs": [],
   "source": []
  }
 ],
 "metadata": {
  "kernelspec": {
   "display_name": "Python 3 (ipykernel)",
   "language": "python",
   "name": "python3"
  },
  "language_info": {
   "codemirror_mode": {
    "name": "ipython",
    "version": 3
   },
   "file_extension": ".py",
   "mimetype": "text/x-python",
   "name": "python",
   "nbconvert_exporter": "python",
   "pygments_lexer": "ipython3",
   "version": "3.10.10"
  }
 },
 "nbformat": 4,
 "nbformat_minor": 5
}
