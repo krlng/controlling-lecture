{
 "cells": [
  {
   "cell_type": "markdown",
   "id": "a588c4f2-1d8a-49dd-91f9-1e8563d09061",
   "metadata": {},
   "source": [
    "# Binäre Klassifikation"
   ]
  },
  {
   "cell_type": "markdown",
   "id": "bc5fae7a-4001-4909-81d6-f7556be619e3",
   "metadata": {},
   "source": [
    "Der typische Ablauf eines binären Klassifikationsproblems in Python kann in folgenden Schritten zusammengefasst werden:\n",
    "\n",
    "* **Datensatz laden**: Der erste Schritt besteht darin, den Datensatz zu laden und in eine Datenstruktur wie z.B. ein Pandas DataFrame zu laden.\n",
    "* **Datenvorverarbeitung**: In diesem Schritt werden die Daten vorbereitet und aufbereitet, um sie für die Analyse und das Modellieren vorzubereiten. Dazu gehören Schritte wie das Entfernen von fehlenden Werten, das Skalieren von Features und das Codieren von kategorialen Variablen.\n",
    "* **Feature-Engineering**: Hier werden neue Features aus den vorhandenen Daten erstellt, um das Modell zu verbessern. Beispiele hierfür sind die Extraktion von Zeitmerkmalen aus Datumsangaben oder die Kombination von Features.\n",
    "* **Datenaufteilung**: In diesem Schritt wird der Datensatz in Trainings- und Testdaten aufgeteilt, um das Modell zu trainieren und zu testen. Eine typische Aufteilung ist z.B. 70% Training und 30% Test.\n",
    "* **Modellierung**: Nun wird das Klassifikationsmodell erstellt und trainiert. Hierfür gibt es verschiedene Algorithmen wie z.B. Logistic Regression, Decision Trees, Random Forests oder Support Vector Machines.\n",
    "* **Modellbewertung**: Nachdem das Modell trainiert wurde, wird es auf den Testdaten evaluiert, um die Leistung des Modells zu bewerten. Dazu werden Metriken wie Accuracy, Precision, Recall und F1-Score verwendet.\n",
    "* **Hyperparameter-Optimierung**: In diesem Schritt werden die Hyperparameter des Modells optimiert, um die Leistung weiter zu verbessern. Hierfür gibt es verschiedene Techniken wie z.B. Grid Search oder Random Search.\n",
    "* **Vorhersagen treffen**: Nachdem das Modell optimiert wurde, wird es verwendet, um Vorhersagen für neue Daten zu treffen.\n",
    "* **Modell-Deployment**: Schließlich wird das Modell in eine produktionsreife Umgebung implementiert, um Echtzeitvorhersagen zu treffen.\n"
   ]
  },
  {
   "cell_type": "markdown",
   "id": "1c21b1fb-183f-4e6e-8120-5a3242155985",
   "metadata": {},
   "source": [
    "# Daten laden"
   ]
  },
  {
   "cell_type": "code",
   "execution_count": null,
   "id": "7618cfa7-d7e2-4578-8b52-e75d03a776fb",
   "metadata": {
    "tags": []
   },
   "outputs": [],
   "source": [
    "import pandas as pd\n",
    "automaten = pd.read_csv(\"https://www.offenedaten-koeln.de/sites/default/files/psa_offene_daten_2023.csv\", encoding='unicode_escape', sep=\";\")\n",
    "\n",
    "strafen = pd.read_csv(\"https://www.offenedaten-koeln.de/sites/default/files/Bussgeld_2021.csv\", encoding='unicode_escape', sep=\";\")\n",
    "\n",
    "tatbestände = pd.read_csv(\"https://raw.githubusercontent.com/jomo/bkat-owi/master/data.csv\")"
   ]
  },
  {
   "cell_type": "markdown",
   "id": "4c6a71f1-ce31-431d-aa79-dcea89d01c09",
   "metadata": {
    "tags": []
   },
   "source": [
    "# Datensatz vorbereiten"
   ]
  },
  {
   "cell_type": "code",
   "execution_count": null,
   "id": "88e0c9f5-9c9e-491a-a641-e41160b4b3dd",
   "metadata": {
    "jp-MarkdownHeadingCollapsed": true,
    "tags": []
   },
   "outputs": [],
   "source": [
    "tatbestände_aktuell = tatbestände.drop_duplicates(\"Tatbestandsnummer\",keep=\"last\").set_index(\"Tatbestandsnummer\")\n",
    "joined = strafen.join(tatbestände_aktuell[[\"Euro\",\"Tatbestand_Druckdatei\",\"Klassifizierung\"]], on=\"tatbestand1\")"
   ]
  },
  {
   "cell_type": "markdown",
   "id": "6c986350-bf70-4889-97ec-ced9f9852f24",
   "metadata": {},
   "source": [
    "Außerdem brauchen wir eine Zielvariable. Der einfachheithalber versuchen wir einfach nur vorherzusagen, ob es sich um Parken ohne Parkticket handelt oder nicht. Prinzipiell könnten wir aber alles mögliche versuchen vorherzusagen, solange diese Informationen verfügbar sind."
   ]
  },
  {
   "cell_type": "code",
   "execution_count": null,
   "id": "f8176853-d3c5-44f4-a28d-154b18a741c7",
   "metadata": {
    "tags": []
   },
   "outputs": [],
   "source": [
    "joined[\"no_parking_ticket\"] = joined.Tatbestand_Druckdatei == \"Sie parkten im Bereich eines Parkscheinautomaten ohne gültigen\\nParkschein.\""
   ]
  },
  {
   "cell_type": "code",
   "execution_count": null,
   "id": "5850d418-eb89-486d-b36b-c3a249eda66b",
   "metadata": {
    "tags": []
   },
   "outputs": [],
   "source": [
    "joined.no_parking_ticket.value_counts()"
   ]
  },
  {
   "cell_type": "markdown",
   "id": "42d08796-c68c-49b7-a387-452cd89b7b1e",
   "metadata": {},
   "source": [
    "# Feature-Engineering"
   ]
  },
  {
   "cell_type": "markdown",
   "id": "384e4820-39aa-485b-ae5a-c7d88ed3ef82",
   "metadata": {},
   "source": [
    "Die meisten Maschine-Learning-Verfahren können nur mit nummerischen Daten umgehen. Spalten mit nicht nummerischen Informationen müssen entsprechend als Kategorien enkodiert werden:"
   ]
  },
  {
   "cell_type": "code",
   "execution_count": null,
   "id": "b21df46c-91dc-4e00-ab87-885c8f1926ee",
   "metadata": {
    "tags": []
   },
   "outputs": [],
   "source": [
    "from sklearn.preprocessing import LabelEncoder  \n",
    "categorical_columns = [\"fahrzeugart\", \"fabrikat\"]\n",
    "for col in categorical_columns:  \n",
    "    le = LabelEncoder()  \n",
    "    joined.loc[:,col] = le.fit_transform(joined[col].astype(str))\n",
    "joined[categorical_columns] = joined[categorical_columns].astype('category')  "
   ]
  },
  {
   "cell_type": "markdown",
   "id": "c6c21464-b8a5-45ac-8824-d9fe4a180c66",
   "metadata": {},
   "source": [
    "Außerdem können wir zusätzliche Informationen aus anderen Informationen ableiten"
   ]
  },
  {
   "cell_type": "code",
   "execution_count": null,
   "id": "0a4b3f67-bcb6-4601-85a6-c0a339cab5e9",
   "metadata": {
    "tags": []
   },
   "outputs": [],
   "source": [
    "time = pd.to_datetime(joined.datum_von)"
   ]
  },
  {
   "cell_type": "code",
   "execution_count": null,
   "id": "7fc813e2-524e-42f7-b345-b5069dc07214",
   "metadata": {
    "tags": []
   },
   "outputs": [],
   "source": [
    "datetime_features = pd.DataFrame({\n",
    "    \"dayofyear\": time.dt.dayofyear / 354,\n",
    "    \"wochentag\": time.dt.weekday / 7\n",
    "})\n",
    "parkverstoesse = joined.join(datetime_features)"
   ]
  },
  {
   "cell_type": "markdown",
   "id": "0801009f-4bfa-40a5-9ab8-501ff5e1d870",
   "metadata": {},
   "source": [
    "# Datenaufteilung"
   ]
  },
  {
   "cell_type": "code",
   "execution_count": null,
   "id": "00a594c9-dfb4-4537-97d9-e8b12235558e",
   "metadata": {
    "tags": []
   },
   "outputs": [],
   "source": [
    "from sklearn.model_selection import train_test_split\n",
    "zielvariable=\"no_parking_ticket\"\n",
    "features = [\"fahrzeugart\", \"fabrikat\",\"dayofyear\",\"wochentag\"]\n",
    "\n",
    "# Ungültige Spalten Entfernen\n",
    "parkverstoesse.dropna(subset=[zielvariable], inplace=True)\n",
    "\n",
    "X = parkverstoesse[features]\n",
    "y = parkverstoesse[zielvariable]"
   ]
  },
  {
   "cell_type": "code",
   "execution_count": null,
   "id": "7499356e-53b2-4ba7-9554-744e992b9d44",
   "metadata": {
    "tags": []
   },
   "outputs": [],
   "source": [
    "X_train, X_test, y_train, y_test = train_test_split(X, y)"
   ]
  },
  {
   "cell_type": "markdown",
   "id": "818bd368-fc94-456a-8d91-e79a4b228de3",
   "metadata": {},
   "source": [
    "# Modellierung"
   ]
  },
  {
   "cell_type": "code",
   "execution_count": null,
   "id": "56733576-c4e5-4eaf-aa31-88cd03a0e23e",
   "metadata": {
    "tags": []
   },
   "outputs": [],
   "source": [
    "from lightgbm import LGBMClassifier\n",
    "gbc = LGBMClassifier()\n",
    "gbc.fit(X_train, y_train)"
   ]
  },
  {
   "cell_type": "markdown",
   "id": "7a9d6eff-1af9-4514-a354-3151d3e6096c",
   "metadata": {},
   "source": [
    "# Modellbewertung"
   ]
  },
  {
   "cell_type": "code",
   "execution_count": null,
   "id": "8f469dfc-9f87-4081-a5b6-068278efd2b1",
   "metadata": {
    "tags": []
   },
   "outputs": [],
   "source": [
    "y_pred = gbc.predict(X_test)  "
   ]
  },
  {
   "cell_type": "code",
   "execution_count": null,
   "id": "dbbdb579-8c95-4419-a239-c713a92650e1",
   "metadata": {
    "tags": []
   },
   "outputs": [],
   "source": [
    "from sklearn.metrics import accuracy_score, classification_report \n",
    "\n",
    "# Evaluating  \n",
    "accuracy = accuracy_score(y_test, y_pred)  \n",
    "print(\"Accuracy:\", accuracy)  \n",
    "print(\"Classification Report:\\n\", classification_report(y_test, y_pred))  "
   ]
  },
  {
   "cell_type": "code",
   "execution_count": null,
   "id": "08e14f76-d95b-449d-b2d5-cef13a35637a",
   "metadata": {
    "tags": []
   },
   "outputs": [],
   "source": [
    "pd.Series(dict(zip(X_train.columns, gbc.feature_importances_))).plot.barh()"
   ]
  },
  {
   "cell_type": "markdown",
   "id": "aa3215f3-4f89-4e34-b7a4-8322f1162d18",
   "metadata": {},
   "source": [
    "# Modellverbesserung\n",
    "\n",
    "Wir haben ein erstes Modell :-) Bevor wir unser Modell aber deployen und in der echten Welt nutzen, sollten wir es noch etwas analysieren. Wie könnte man das Modell noch verbessern? Worauf muss man achten?\n",
    "\n",
    " * Hyperparameter-Optimierung: Man könnte unterschiedliche Parameter für unser Modell testen.\n",
    " * ..."
   ]
  },
  {
   "cell_type": "markdown",
   "id": "6bd4cfc9-0c16-4736-861c-552f9f24d3bc",
   "metadata": {},
   "source": [
    "# Bonus: Unbalancierte Daten"
   ]
  },
  {
   "cell_type": "markdown",
   "id": "2837bfe4-3289-47c6-adf6-1adacfa61420",
   "metadata": {},
   "source": [
    "Ein typisches Problem ist, dass die Zielvariable nicht gleichmäßig verteilt ist. Insbesondere bei stark unterschiedlich ausgeprägten Datenklassen muss man hiermit umgehen. Eine Möglichkeit ist, die häufiger vertretenen Klassen herab zu samplen"
   ]
  },
  {
   "cell_type": "code",
   "execution_count": null,
   "id": "84b2cb7f-ad70-4a3e-89e2-c7fa51bdebcd",
   "metadata": {
    "tags": []
   },
   "outputs": [],
   "source": [
    "from imblearn.under_sampling import RandomUnderSampler\n",
    "rus = RandomUnderSampler()\n",
    "X_rus, y_rus = rus.fit_resample(X_train, y_train)"
   ]
  },
  {
   "cell_type": "code",
   "execution_count": null,
   "id": "f8635d0e-315c-4614-b273-2cf80aebf214",
   "metadata": {
    "tags": []
   },
   "outputs": [],
   "source": [
    "from lightgbm import LGBMClassifier\n",
    "gbc = LGBMClassifier()\n",
    "gbc.fit(X_rus, y_rus)"
   ]
  },
  {
   "cell_type": "code",
   "execution_count": null,
   "id": "da9e80e0-d227-40b5-81e7-9657127586b0",
   "metadata": {
    "tags": []
   },
   "outputs": [],
   "source": [
    "y_pred = gbc.predict(X_test)  "
   ]
  },
  {
   "cell_type": "code",
   "execution_count": null,
   "id": "79f8c59f-4415-42fc-be83-d034f27c045e",
   "metadata": {
    "tags": []
   },
   "outputs": [],
   "source": [
    "# Evaluating  \n",
    "accuracy = accuracy_score(y_test, y_pred)  \n",
    "print(\"Accuracy:\", accuracy)  \n",
    "print(\"Classification Report:\\n\", classification_report(y_test, y_pred))  "
   ]
  },
  {
   "cell_type": "code",
   "execution_count": null,
   "id": "b4cdb6d9-5505-4012-8698-2f8fc855e22d",
   "metadata": {
    "tags": []
   },
   "outputs": [],
   "source": [
    "pd.Series(dict(zip(X_train.columns, gbc.feature_importances_))).plot.barh()"
   ]
  },
  {
   "cell_type": "code",
   "execution_count": null,
   "id": "485bf660-7dea-4a20-888e-42eac6fb4805",
   "metadata": {},
   "outputs": [],
   "source": []
  }
 ],
 "metadata": {
  "kernelspec": {
   "display_name": "Python 3 (ipykernel)",
   "language": "python",
   "name": "python3"
  },
  "language_info": {
   "codemirror_mode": {
    "name": "ipython",
    "version": 3
   },
   "file_extension": ".py",
   "mimetype": "text/x-python",
   "name": "python",
   "nbconvert_exporter": "python",
   "pygments_lexer": "ipython3",
   "version": "3.10.10"
  }
 },
 "nbformat": 4,
 "nbformat_minor": 5
}
