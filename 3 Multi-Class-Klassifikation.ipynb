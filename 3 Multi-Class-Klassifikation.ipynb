{
 "cells": [
  {
   "cell_type": "markdown",
   "id": "a588c4f2-1d8a-49dd-91f9-1e8563d09061",
   "metadata": {},
   "source": [
    "# Multi-Class Klassifikation"
   ]
  },
  {
   "cell_type": "markdown",
   "id": "bc5fae7a-4001-4909-81d6-f7556be619e3",
   "metadata": {},
   "source": [
    "Der Unterschied zwischen einer binären und einer multi-class Klassifikation besteht in der Anzahl der Klassen, die vom Modell vorhergesagt werden sollen.\n",
    "\n",
    "Bei einer binären Klassifikation wird das Modell trainiert, um zwischen nur zwei Klassen zu unterscheiden, z.B. Ja/Nein, 0/1 oder positiv/negativ. Ein bekanntes Beispiel hierfür ist die Spam-Erkennung bei E-Mails, bei der das Modell zwischen Spam und Nicht-Spam unterscheidet.\n",
    "\n",
    "Im Gegensatz dazu geht es bei einer multi-class Klassifikation darum, das Modell zu trainieren, um zwischen mehr als zwei Klassen zu unterscheiden. Ein Beispiel hierfür ist die Klassifikation von verschiedenen Tierarten wie Hunden, Katzen und Vögeln. Hier muss das Modell trainiert werden, um jedes Tier korrekt zu identifizieren."
   ]
  },
  {
   "cell_type": "markdown",
   "id": "1c21b1fb-183f-4e6e-8120-5a3242155985",
   "metadata": {},
   "source": [
    "# Daten laden"
   ]
  },
  {
   "cell_type": "code",
   "execution_count": null,
   "id": "7618cfa7-d7e2-4578-8b52-e75d03a776fb",
   "metadata": {
    "tags": []
   },
   "outputs": [],
   "source": [
    "import pandas as pd\n",
    "automaten = pd.read_csv(\"https://www.offenedaten-koeln.de/sites/default/files/psa_offene_daten_2023.csv\", encoding='unicode_escape', sep=\";\")\n",
    "\n",
    "strafen = pd.read_csv(\"https://www.offenedaten-koeln.de/sites/default/files/Bussgeld_2021.csv\", encoding='unicode_escape', sep=\";\")\n",
    "\n",
    "tatbestände = pd.read_csv(\"https://raw.githubusercontent.com/jomo/bkat-owi/master/data.csv\")"
   ]
  },
  {
   "cell_type": "markdown",
   "id": "4c6a71f1-ce31-431d-aa79-dcea89d01c09",
   "metadata": {
    "tags": []
   },
   "source": [
    "# Datensatz vorbereiten"
   ]
  },
  {
   "cell_type": "code",
   "execution_count": null,
   "id": "88e0c9f5-9c9e-491a-a641-e41160b4b3dd",
   "metadata": {
    "jp-MarkdownHeadingCollapsed": true,
    "tags": []
   },
   "outputs": [],
   "source": [
    "tatbestände_aktuell = tatbestände.drop_duplicates(\"Tatbestandsnummer\",keep=\"last\").set_index(\"Tatbestandsnummer\")\n",
    "joined = strafen.join(tatbestände_aktuell[[\"Euro\",\"Tatbestand_Druckdatei\",\"Klassifizierung\"]], on=\"tatbestand1\")"
   ]
  },
  {
   "cell_type": "markdown",
   "id": "6c986350-bf70-4889-97ec-ced9f9852f24",
   "metadata": {},
   "source": [
    "Außerdem brauchen wir eine Zielvariable. Der einfachheithalber versuchen wir einfach nur vorherzusagen, ob es sich um Parken ohne Parkticket handelt oder nicht. Prinzipiell könnten wir aber alles mögliche versuchen vorherzusagen, solange diese Informationen verfügbar sind."
   ]
  },
  {
   "cell_type": "code",
   "execution_count": null,
   "id": "f8176853-d3c5-44f4-a28d-154b18a741c7",
   "metadata": {
    "tags": []
   },
   "outputs": [],
   "source": [
    "joined[\"no_parking_ticket\"] = joined.Tatbestand_Druckdatei == \"Sie parkten im Bereich eines Parkscheinautomaten ohne gültigen\\nParkschein.\""
   ]
  },
  {
   "cell_type": "code",
   "execution_count": null,
   "id": "5850d418-eb89-486d-b36b-c3a249eda66b",
   "metadata": {
    "tags": []
   },
   "outputs": [],
   "source": [
    "joined.no_parking_ticket.value_counts()"
   ]
  },
  {
   "cell_type": "markdown",
   "id": "e6b8e90a-e923-4410-b314-29d0523b978a",
   "metadata": {},
   "source": [
    "# Erstellen einer Zielvariable mit Hilfe von ChatGPT"
   ]
  },
  {
   "cell_type": "code",
   "execution_count": null,
   "id": "7de2a3b0-4a69-432a-88ff-b37e51d3e56e",
   "metadata": {
    "tags": []
   },
   "outputs": [],
   "source": [
    "long_versions = joined.Tatbestand_Druckdatei.value_counts().head(50).index.tolist()"
   ]
  },
  {
   "cell_type": "code",
   "execution_count": null,
   "id": "999a46af-68a9-482e-afbf-4282a64b4721",
   "metadata": {
    "tags": []
   },
   "outputs": [],
   "source": [
    "# Prompt for ChatGPT\n",
    "prompt = f\"\"\"Hier ist eine Liste an Vergehen eines Strafenkatalogs. Erstelle 5 Überbegriffe (maximal 3 Wörter) für die unterschiedlichen Arten an Vergehen. Ersetze anschließend in der Liste der Vergehen jedes einzelne Vergehen durch den am besten passenden Überbegriff.\n",
    " \n",
    "Die Liste der Vergehen ist:   \n",
    "{long_versions}\"\"\"\n",
    "print(prompt)"
   ]
  },
  {
   "cell_type": "code",
   "execution_count": null,
   "id": "7e2bd975-b42c-4d08-be3a-bed7b8393351",
   "metadata": {
    "tags": []
   },
   "outputs": [],
   "source": [
    "chatgpt_results = [\"Parkvergehen\", \"Parkvergehen\", \"Parkvergehen\", \"Parkvergehen\", \"Parkvergehen\", \"Parkvergehen\", \"Parkvergehen\", \"Parkvergehen\", \"Sicherheitsvergehen\", \"Parkvergehen\", \"Parkvergehen\", \"Parkvergehen\", \"Parkvergehen\", \"Sicherheitsvergehen\", \"Verkehrsvergehen\", \"Parkvergehen\", \"Haltevergehen\", \"Parkvergehen\", \"Haltevergehen\", \"Parkvergehen\", \"Gehwegvergehen\", \"Haltevergehen\", \"Parkvergehen\", \"Gehwegvergehen\", \"Haltevergehen\", \"Gehwegvergehen\", \"Haltevergehen\", \"Parkvergehen\", \"Haltevergehen\", \"Parkvergehen\", \"Gehwegvergehen\", \"Parkvergehen\", \"Haltevergehen\", \"Gehwegvergehen\", \"Verkehrsvergehen\", \"Gehwegvergehen\", \"Parkvergehen\", \"Verkehrsvergehen\", \"Gehwegvergehen\", \"Parkvergehen\", \"Gehwegvergehen\", \"Haltevergehen\", \"Haltevergehen\", \"Gehwegvergehen\", \"Parkvergehen\", \"Gehwegvergehen\", \"Haltevergehen\", \"Parkvergehen\", \"Gehwegvergehen\", \"Parkvergehen\", \"Parkvergehen\", \"Gehwegvergehen\", \"Parkvergehen\", \"Gehwegvergehen\", \"Haltevergehen\", \"Gehwegvergehen\", \"Haltevergehen\", \"Gehwegvergehen\", \"Haltevergehen\", \"Parkvergehen\", \"Gehwegvergehen\", \"Parkvergehen\", \"Gehwegvergehen\", \"Parkvergehen\", \"Gehwegvergehen\"]\n",
    "group_mapping = dict(zip(long_versions, chatgpt_results))\n",
    "joined[\"group\"] = joined.Tatbestand_Druckdatei.replace(group_mapping)\n",
    "joined.loc[~joined[\"group\"].isin(chatgpt_results),\"group\"] = \"Sonstiges\""
   ]
  },
  {
   "cell_type": "markdown",
   "id": "8156145e-f070-498b-981a-da507f1b15ed",
   "metadata": {},
   "source": [
    "# Re-Use what you already know\n",
    "\n",
    "And Predict the \"tatbestand\" column"
   ]
  },
  {
   "cell_type": "code",
   "execution_count": null,
   "id": "55dc1059-8fa4-4db5-96ed-ddec4d48cf2c",
   "metadata": {
    "tags": []
   },
   "outputs": [],
   "source": [
    "joined.group.value_counts()"
   ]
  },
  {
   "cell_type": "code",
   "execution_count": null,
   "id": "211b5531-f75f-49e7-84ad-ab3bc0b3e701",
   "metadata": {},
   "outputs": [],
   "source": []
  }
 ],
 "metadata": {
  "kernelspec": {
   "display_name": "Python 3 (ipykernel)",
   "language": "python",
   "name": "python3"
  },
  "language_info": {
   "codemirror_mode": {
    "name": "ipython",
    "version": 3
   },
   "file_extension": ".py",
   "mimetype": "text/x-python",
   "name": "python",
   "nbconvert_exporter": "python",
   "pygments_lexer": "ipython3",
   "version": "3.10.10"
  }
 },
 "nbformat": 4,
 "nbformat_minor": 5
}
